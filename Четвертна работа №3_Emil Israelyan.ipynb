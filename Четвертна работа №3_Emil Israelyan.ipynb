{
 "cells": [
  {
   "cell_type": "markdown",
   "id": "74db647c",
   "metadata": {},
   "source": [
    "## Создание БД и загрузка файлов в нее"
   ]
  },
  {
   "cell_type": "code",
   "execution_count": 1,
   "id": "9d12f270",
   "metadata": {},
   "outputs": [],
   "source": [
    "import sqlite3\n",
    "import pandas as pd"
   ]
  },
  {
   "cell_type": "code",
   "execution_count": 2,
   "id": "59c6176e",
   "metadata": {},
   "outputs": [],
   "source": [
    "conn = sqlite3.connect('mydb.db')"
   ]
  },
  {
   "cell_type": "code",
   "execution_count": 3,
   "id": "f2d0db99",
   "metadata": {},
   "outputs": [],
   "source": [
    "# Прочитаем файлы\n",
    "crm = pd.read_csv(\"crm_data.csv\")\n",
    "visits = pd.read_csv(\"site_visits_data.csv\")\n",
    "total = pd.read_csv(\"total_data.csv\")"
   ]
  },
  {
   "cell_type": "code",
   "execution_count": 4,
   "id": "a25b2279",
   "metadata": {},
   "outputs": [
    {
     "data": {
      "text/html": [
       "<div>\n",
       "<style scoped>\n",
       "    .dataframe tbody tr th:only-of-type {\n",
       "        vertical-align: middle;\n",
       "    }\n",
       "\n",
       "    .dataframe tbody tr th {\n",
       "        vertical-align: top;\n",
       "    }\n",
       "\n",
       "    .dataframe thead th {\n",
       "        text-align: right;\n",
       "    }\n",
       "</style>\n",
       "<table border=\"1\" class=\"dataframe\">\n",
       "  <thead>\n",
       "    <tr style=\"text-align: right;\">\n",
       "      <th></th>\n",
       "      <th>user_id</th>\n",
       "      <th>id_contact</th>\n",
       "      <th>age</th>\n",
       "      <th>spoke_with_agent</th>\n",
       "      <th>application_ts</th>\n",
       "      <th>documents_send</th>\n",
       "      <th>documents_recieved</th>\n",
       "      <th>flag</th>\n",
       "    </tr>\n",
       "  </thead>\n",
       "  <tbody>\n",
       "    <tr>\n",
       "      <th>0</th>\n",
       "      <td>0947abecd9b9ee653139dcafaf48e243</td>\n",
       "      <td>718951688</td>\n",
       "      <td>28</td>\n",
       "      <td>1</td>\n",
       "      <td>2019-07-19 16:07:25 UTC</td>\n",
       "      <td>0</td>\n",
       "      <td>0</td>\n",
       "      <td>0</td>\n",
       "    </tr>\n",
       "    <tr>\n",
       "      <th>1</th>\n",
       "      <td>baaa6faf65e6a37630e43520d061a0aa</td>\n",
       "      <td>721632137</td>\n",
       "      <td>29</td>\n",
       "      <td>1</td>\n",
       "      <td>2019-07-22 16:02:23 UTC</td>\n",
       "      <td>0</td>\n",
       "      <td>0</td>\n",
       "      <td>0</td>\n",
       "    </tr>\n",
       "    <tr>\n",
       "      <th>2</th>\n",
       "      <td>856d1cf0187a188a40f9749fdd28cc3d</td>\n",
       "      <td>718659195</td>\n",
       "      <td>20</td>\n",
       "      <td>0</td>\n",
       "      <td>2019-07-19 07:09:59 UTC</td>\n",
       "      <td>1</td>\n",
       "      <td>0</td>\n",
       "      <td>0</td>\n",
       "    </tr>\n",
       "    <tr>\n",
       "      <th>3</th>\n",
       "      <td>87f07128d407c5b0b4ce154d2202d4e9</td>\n",
       "      <td>719838762</td>\n",
       "      <td>41</td>\n",
       "      <td>1</td>\n",
       "      <td>2019-07-20 12:31:32 UTC</td>\n",
       "      <td>0</td>\n",
       "      <td>0</td>\n",
       "      <td>0</td>\n",
       "    </tr>\n",
       "    <tr>\n",
       "      <th>4</th>\n",
       "      <td>f822a4d35abadb48fb35d7829d8470b1</td>\n",
       "      <td>719324076</td>\n",
       "      <td>22</td>\n",
       "      <td>1</td>\n",
       "      <td>2019-07-20 06:55:21 UTC</td>\n",
       "      <td>0</td>\n",
       "      <td>0</td>\n",
       "      <td>0</td>\n",
       "    </tr>\n",
       "  </tbody>\n",
       "</table>\n",
       "</div>"
      ],
      "text/plain": [
       "                            user_id  id_contact  age  spoke_with_agent  \\\n",
       "0  0947abecd9b9ee653139dcafaf48e243   718951688   28                 1   \n",
       "1  baaa6faf65e6a37630e43520d061a0aa   721632137   29                 1   \n",
       "2  856d1cf0187a188a40f9749fdd28cc3d   718659195   20                 0   \n",
       "3  87f07128d407c5b0b4ce154d2202d4e9   719838762   41                 1   \n",
       "4  f822a4d35abadb48fb35d7829d8470b1   719324076   22                 1   \n",
       "\n",
       "            application_ts  documents_send  documents_recieved  flag  \n",
       "0  2019-07-19 16:07:25 UTC               0                   0     0  \n",
       "1  2019-07-22 16:02:23 UTC               0                   0     0  \n",
       "2  2019-07-19 07:09:59 UTC               1                   0     0  \n",
       "3  2019-07-20 12:31:32 UTC               0                   0     0  \n",
       "4  2019-07-20 06:55:21 UTC               0                   0     0  "
      ]
     },
     "execution_count": 4,
     "metadata": {},
     "output_type": "execute_result"
    }
   ],
   "source": [
    "crm.head()"
   ]
  },
  {
   "cell_type": "code",
   "execution_count": 5,
   "id": "f6bc2ca2",
   "metadata": {},
   "outputs": [
    {
     "data": {
      "text/html": [
       "<div>\n",
       "<style scoped>\n",
       "    .dataframe tbody tr th:only-of-type {\n",
       "        vertical-align: middle;\n",
       "    }\n",
       "\n",
       "    .dataframe tbody tr th {\n",
       "        vertical-align: top;\n",
       "    }\n",
       "\n",
       "    .dataframe thead th {\n",
       "        text-align: right;\n",
       "    }\n",
       "</style>\n",
       "<table border=\"1\" class=\"dataframe\">\n",
       "  <thead>\n",
       "    <tr style=\"text-align: right;\">\n",
       "      <th></th>\n",
       "      <th>user_id</th>\n",
       "      <th>visit_start_time</th>\n",
       "      <th>session_duration</th>\n",
       "      <th>delivery_pickup</th>\n",
       "      <th>bounce_rate</th>\n",
       "      <th>total_sessions</th>\n",
       "      <th>user_type</th>\n",
       "      <th>visited_partners</th>\n",
       "      <th>step_1</th>\n",
       "      <th>step_2</th>\n",
       "      <th>step_3</th>\n",
       "    </tr>\n",
       "  </thead>\n",
       "  <tbody>\n",
       "    <tr>\n",
       "      <th>0</th>\n",
       "      <td>1fb42a882f576c05f226ad3bf313caa1</td>\n",
       "      <td>2019-07-22 06:12:57 UTC</td>\n",
       "      <td>0</td>\n",
       "      <td>not_stated</td>\n",
       "      <td>1</td>\n",
       "      <td>1</td>\n",
       "      <td>new</td>\n",
       "      <td>0</td>\n",
       "      <td>0</td>\n",
       "      <td>0</td>\n",
       "      <td>0</td>\n",
       "    </tr>\n",
       "    <tr>\n",
       "      <th>1</th>\n",
       "      <td>7b2eb4009b25b2b02589b8b60fd8a3e3</td>\n",
       "      <td>2019-07-22 08:04:27 UTC</td>\n",
       "      <td>0</td>\n",
       "      <td>not_stated</td>\n",
       "      <td>1</td>\n",
       "      <td>1</td>\n",
       "      <td>old</td>\n",
       "      <td>0</td>\n",
       "      <td>0</td>\n",
       "      <td>0</td>\n",
       "      <td>0</td>\n",
       "    </tr>\n",
       "    <tr>\n",
       "      <th>2</th>\n",
       "      <td>39f4448e01e3126a9b35b32ae5b36bbe</td>\n",
       "      <td>2019-07-22 13:39:54 UTC</td>\n",
       "      <td>0</td>\n",
       "      <td>not_stated</td>\n",
       "      <td>1</td>\n",
       "      <td>1</td>\n",
       "      <td>old</td>\n",
       "      <td>0</td>\n",
       "      <td>0</td>\n",
       "      <td>0</td>\n",
       "      <td>0</td>\n",
       "    </tr>\n",
       "    <tr>\n",
       "      <th>3</th>\n",
       "      <td>12beb8d6d22fc4d1000b4cd0469f7dec</td>\n",
       "      <td>2019-07-22 14:54:17 UTC</td>\n",
       "      <td>0</td>\n",
       "      <td>not_stated</td>\n",
       "      <td>1</td>\n",
       "      <td>1</td>\n",
       "      <td>old</td>\n",
       "      <td>0</td>\n",
       "      <td>0</td>\n",
       "      <td>0</td>\n",
       "      <td>0</td>\n",
       "    </tr>\n",
       "    <tr>\n",
       "      <th>4</th>\n",
       "      <td>a2f10e983bdf1c5fbb04e3d89a4f5396</td>\n",
       "      <td>2019-07-22 18:21:49 UTC</td>\n",
       "      <td>0</td>\n",
       "      <td>not_stated</td>\n",
       "      <td>1</td>\n",
       "      <td>1</td>\n",
       "      <td>old</td>\n",
       "      <td>0</td>\n",
       "      <td>0</td>\n",
       "      <td>0</td>\n",
       "      <td>0</td>\n",
       "    </tr>\n",
       "  </tbody>\n",
       "</table>\n",
       "</div>"
      ],
      "text/plain": [
       "                            user_id         visit_start_time  \\\n",
       "0  1fb42a882f576c05f226ad3bf313caa1  2019-07-22 06:12:57 UTC   \n",
       "1  7b2eb4009b25b2b02589b8b60fd8a3e3  2019-07-22 08:04:27 UTC   \n",
       "2  39f4448e01e3126a9b35b32ae5b36bbe  2019-07-22 13:39:54 UTC   \n",
       "3  12beb8d6d22fc4d1000b4cd0469f7dec  2019-07-22 14:54:17 UTC   \n",
       "4  a2f10e983bdf1c5fbb04e3d89a4f5396  2019-07-22 18:21:49 UTC   \n",
       "\n",
       "   session_duration delivery_pickup  bounce_rate  total_sessions user_type  \\\n",
       "0                 0      not_stated            1               1       new   \n",
       "1                 0      not_stated            1               1       old   \n",
       "2                 0      not_stated            1               1       old   \n",
       "3                 0      not_stated            1               1       old   \n",
       "4                 0      not_stated            1               1       old   \n",
       "\n",
       "   visited_partners  step_1  step_2  step_3  \n",
       "0                 0       0       0       0  \n",
       "1                 0       0       0       0  \n",
       "2                 0       0       0       0  \n",
       "3                 0       0       0       0  \n",
       "4                 0       0       0       0  "
      ]
     },
     "execution_count": 5,
     "metadata": {},
     "output_type": "execute_result"
    }
   ],
   "source": [
    "visits.head()"
   ]
  },
  {
   "cell_type": "code",
   "execution_count": 6,
   "id": "c4bfcfdf",
   "metadata": {},
   "outputs": [
    {
     "data": {
      "text/html": [
       "<div>\n",
       "<style scoped>\n",
       "    .dataframe tbody tr th:only-of-type {\n",
       "        vertical-align: middle;\n",
       "    }\n",
       "\n",
       "    .dataframe tbody tr th {\n",
       "        vertical-align: top;\n",
       "    }\n",
       "\n",
       "    .dataframe thead th {\n",
       "        text-align: right;\n",
       "    }\n",
       "</style>\n",
       "<table border=\"1\" class=\"dataframe\">\n",
       "  <thead>\n",
       "    <tr style=\"text-align: right;\">\n",
       "      <th></th>\n",
       "      <th>request_id</th>\n",
       "      <th>age</th>\n",
       "      <th>spoke_with_agent</th>\n",
       "      <th>documents_send</th>\n",
       "      <th>documents_recieved</th>\n",
       "      <th>flag</th>\n",
       "      <th>delivery_pickup</th>\n",
       "      <th>session_duration</th>\n",
       "      <th>bounce_rate</th>\n",
       "      <th>sessions</th>\n",
       "      <th>visited_partners</th>\n",
       "      <th>step_1</th>\n",
       "      <th>step_2</th>\n",
       "      <th>step_3</th>\n",
       "      <th>user_type</th>\n",
       "    </tr>\n",
       "  </thead>\n",
       "  <tbody>\n",
       "    <tr>\n",
       "      <th>0</th>\n",
       "      <td>853b5d24c44a1bd3255c679fe10ae1fd</td>\n",
       "      <td>45</td>\n",
       "      <td>0</td>\n",
       "      <td>0</td>\n",
       "      <td>0</td>\n",
       "      <td>0</td>\n",
       "      <td>not_stated</td>\n",
       "      <td>0.0</td>\n",
       "      <td>1.0</td>\n",
       "      <td>1</td>\n",
       "      <td>0</td>\n",
       "      <td>0</td>\n",
       "      <td>0</td>\n",
       "      <td>0</td>\n",
       "      <td>new</td>\n",
       "    </tr>\n",
       "    <tr>\n",
       "      <th>1</th>\n",
       "      <td>853b5d24c44a1bd3255c679fe10ae1fd</td>\n",
       "      <td>45</td>\n",
       "      <td>0</td>\n",
       "      <td>0</td>\n",
       "      <td>0</td>\n",
       "      <td>0</td>\n",
       "      <td>delivery</td>\n",
       "      <td>171.0</td>\n",
       "      <td>0.0</td>\n",
       "      <td>1</td>\n",
       "      <td>0</td>\n",
       "      <td>1</td>\n",
       "      <td>0</td>\n",
       "      <td>0</td>\n",
       "      <td>old</td>\n",
       "    </tr>\n",
       "    <tr>\n",
       "      <th>2</th>\n",
       "      <td>7ae319b1bd27ca5eaf622a9421a3014d</td>\n",
       "      <td>31</td>\n",
       "      <td>1</td>\n",
       "      <td>0</td>\n",
       "      <td>0</td>\n",
       "      <td>0</td>\n",
       "      <td>pickup</td>\n",
       "      <td>40.0</td>\n",
       "      <td>0.0</td>\n",
       "      <td>1</td>\n",
       "      <td>0</td>\n",
       "      <td>0</td>\n",
       "      <td>0</td>\n",
       "      <td>0</td>\n",
       "      <td>new</td>\n",
       "    </tr>\n",
       "    <tr>\n",
       "      <th>3</th>\n",
       "      <td>06993ceab2ede613bce365880572460c</td>\n",
       "      <td>23</td>\n",
       "      <td>1</td>\n",
       "      <td>0</td>\n",
       "      <td>0</td>\n",
       "      <td>0</td>\n",
       "      <td>pickup</td>\n",
       "      <td>229.0</td>\n",
       "      <td>0.0</td>\n",
       "      <td>2</td>\n",
       "      <td>1</td>\n",
       "      <td>2</td>\n",
       "      <td>0</td>\n",
       "      <td>0</td>\n",
       "      <td>new</td>\n",
       "    </tr>\n",
       "    <tr>\n",
       "      <th>4</th>\n",
       "      <td>d9bf61f493e7e37df134a2e1284ccd00</td>\n",
       "      <td>29</td>\n",
       "      <td>1</td>\n",
       "      <td>0</td>\n",
       "      <td>0</td>\n",
       "      <td>0</td>\n",
       "      <td>pickup</td>\n",
       "      <td>152.0</td>\n",
       "      <td>0.0</td>\n",
       "      <td>1</td>\n",
       "      <td>1</td>\n",
       "      <td>0</td>\n",
       "      <td>0</td>\n",
       "      <td>0</td>\n",
       "      <td>old</td>\n",
       "    </tr>\n",
       "  </tbody>\n",
       "</table>\n",
       "</div>"
      ],
      "text/plain": [
       "                         request_id  age  spoke_with_agent  documents_send  \\\n",
       "0  853b5d24c44a1bd3255c679fe10ae1fd   45                 0               0   \n",
       "1  853b5d24c44a1bd3255c679fe10ae1fd   45                 0               0   \n",
       "2  7ae319b1bd27ca5eaf622a9421a3014d   31                 1               0   \n",
       "3  06993ceab2ede613bce365880572460c   23                 1               0   \n",
       "4  d9bf61f493e7e37df134a2e1284ccd00   29                 1               0   \n",
       "\n",
       "   documents_recieved  flag delivery_pickup  session_duration  bounce_rate  \\\n",
       "0                   0     0      not_stated               0.0          1.0   \n",
       "1                   0     0        delivery             171.0          0.0   \n",
       "2                   0     0          pickup              40.0          0.0   \n",
       "3                   0     0          pickup             229.0          0.0   \n",
       "4                   0     0          pickup             152.0          0.0   \n",
       "\n",
       "   sessions  visited_partners  step_1  step_2  step_3 user_type  \n",
       "0         1                 0       0       0       0       new  \n",
       "1         1                 0       1       0       0       old  \n",
       "2         1                 0       0       0       0       new  \n",
       "3         2                 1       2       0       0       new  \n",
       "4         1                 1       0       0       0       old  "
      ]
     },
     "execution_count": 6,
     "metadata": {},
     "output_type": "execute_result"
    }
   ],
   "source": [
    "total.head()"
   ]
  },
  {
   "cell_type": "code",
   "execution_count": 7,
   "id": "620e25fb",
   "metadata": {},
   "outputs": [],
   "source": [
    "# Создадим в БД 3 таблицы crm и visits\n",
    "crm.to_sql('crm', conn, if_exists='replace', index=False)\n",
    "visits.to_sql('visits', conn, if_exists='replace', index=False)\n",
    "total.to_sql('total', conn, if_exists='replace', index=False)"
   ]
  },
  {
   "cell_type": "code",
   "execution_count": 8,
   "id": "c5377370",
   "metadata": {},
   "outputs": [],
   "source": [
    "def fetch_query(query):\n",
    "    return pd.read_sql_query(query, conn)"
   ]
  },
  {
   "cell_type": "code",
   "execution_count": 9,
   "id": "64ddc128",
   "metadata": {},
   "outputs": [
    {
     "data": {
      "text/html": [
       "<div>\n",
       "<style scoped>\n",
       "    .dataframe tbody tr th:only-of-type {\n",
       "        vertical-align: middle;\n",
       "    }\n",
       "\n",
       "    .dataframe tbody tr th {\n",
       "        vertical-align: top;\n",
       "    }\n",
       "\n",
       "    .dataframe thead th {\n",
       "        text-align: right;\n",
       "    }\n",
       "</style>\n",
       "<table border=\"1\" class=\"dataframe\">\n",
       "  <thead>\n",
       "    <tr style=\"text-align: right;\">\n",
       "      <th></th>\n",
       "      <th>user_id</th>\n",
       "      <th>id_contact</th>\n",
       "      <th>age</th>\n",
       "      <th>spoke_with_agent</th>\n",
       "      <th>application_ts</th>\n",
       "      <th>documents_send</th>\n",
       "      <th>documents_recieved</th>\n",
       "      <th>flag</th>\n",
       "    </tr>\n",
       "  </thead>\n",
       "  <tbody>\n",
       "    <tr>\n",
       "      <th>0</th>\n",
       "      <td>0947abecd9b9ee653139dcafaf48e243</td>\n",
       "      <td>718951688</td>\n",
       "      <td>28</td>\n",
       "      <td>1</td>\n",
       "      <td>2019-07-19 16:07:25 UTC</td>\n",
       "      <td>0</td>\n",
       "      <td>0</td>\n",
       "      <td>0</td>\n",
       "    </tr>\n",
       "    <tr>\n",
       "      <th>1</th>\n",
       "      <td>baaa6faf65e6a37630e43520d061a0aa</td>\n",
       "      <td>721632137</td>\n",
       "      <td>29</td>\n",
       "      <td>1</td>\n",
       "      <td>2019-07-22 16:02:23 UTC</td>\n",
       "      <td>0</td>\n",
       "      <td>0</td>\n",
       "      <td>0</td>\n",
       "    </tr>\n",
       "    <tr>\n",
       "      <th>2</th>\n",
       "      <td>856d1cf0187a188a40f9749fdd28cc3d</td>\n",
       "      <td>718659195</td>\n",
       "      <td>20</td>\n",
       "      <td>0</td>\n",
       "      <td>2019-07-19 07:09:59 UTC</td>\n",
       "      <td>1</td>\n",
       "      <td>0</td>\n",
       "      <td>0</td>\n",
       "    </tr>\n",
       "    <tr>\n",
       "      <th>3</th>\n",
       "      <td>87f07128d407c5b0b4ce154d2202d4e9</td>\n",
       "      <td>719838762</td>\n",
       "      <td>41</td>\n",
       "      <td>1</td>\n",
       "      <td>2019-07-20 12:31:32 UTC</td>\n",
       "      <td>0</td>\n",
       "      <td>0</td>\n",
       "      <td>0</td>\n",
       "    </tr>\n",
       "    <tr>\n",
       "      <th>4</th>\n",
       "      <td>f822a4d35abadb48fb35d7829d8470b1</td>\n",
       "      <td>719324076</td>\n",
       "      <td>22</td>\n",
       "      <td>1</td>\n",
       "      <td>2019-07-20 06:55:21 UTC</td>\n",
       "      <td>0</td>\n",
       "      <td>0</td>\n",
       "      <td>0</td>\n",
       "    </tr>\n",
       "    <tr>\n",
       "      <th>5</th>\n",
       "      <td>2fce19bc21dfe3d89f149047b0ef8637</td>\n",
       "      <td>718957000</td>\n",
       "      <td>27</td>\n",
       "      <td>1</td>\n",
       "      <td>2019-07-19 16:38:02 UTC</td>\n",
       "      <td>0</td>\n",
       "      <td>0</td>\n",
       "      <td>0</td>\n",
       "    </tr>\n",
       "    <tr>\n",
       "      <th>6</th>\n",
       "      <td>eb106524e9a456e255041c69bb5778cc</td>\n",
       "      <td>719876679</td>\n",
       "      <td>35</td>\n",
       "      <td>1</td>\n",
       "      <td>2019-07-20 13:34:28 UTC</td>\n",
       "      <td>0</td>\n",
       "      <td>0</td>\n",
       "      <td>0</td>\n",
       "    </tr>\n",
       "    <tr>\n",
       "      <th>7</th>\n",
       "      <td>300651e9502dc76204377e9fce2734dc</td>\n",
       "      <td>721134206</td>\n",
       "      <td>29</td>\n",
       "      <td>1</td>\n",
       "      <td>2019-07-22 04:47:07 UTC</td>\n",
       "      <td>0</td>\n",
       "      <td>0</td>\n",
       "      <td>0</td>\n",
       "    </tr>\n",
       "    <tr>\n",
       "      <th>8</th>\n",
       "      <td>18e49cef40df0b2ae76a470fe13d5303</td>\n",
       "      <td>718880266</td>\n",
       "      <td>40</td>\n",
       "      <td>1</td>\n",
       "      <td>2019-07-19 12:54:33 UTC</td>\n",
       "      <td>0</td>\n",
       "      <td>0</td>\n",
       "      <td>0</td>\n",
       "    </tr>\n",
       "    <tr>\n",
       "      <th>9</th>\n",
       "      <td>5022c6ff49cbbc4e24d00d09be7a9291</td>\n",
       "      <td>722020100</td>\n",
       "      <td>46</td>\n",
       "      <td>0</td>\n",
       "      <td>2019-07-23 13:57:10 UTC</td>\n",
       "      <td>0</td>\n",
       "      <td>0</td>\n",
       "      <td>0</td>\n",
       "    </tr>\n",
       "  </tbody>\n",
       "</table>\n",
       "</div>"
      ],
      "text/plain": [
       "                            user_id  id_contact  age  spoke_with_agent  \\\n",
       "0  0947abecd9b9ee653139dcafaf48e243   718951688   28                 1   \n",
       "1  baaa6faf65e6a37630e43520d061a0aa   721632137   29                 1   \n",
       "2  856d1cf0187a188a40f9749fdd28cc3d   718659195   20                 0   \n",
       "3  87f07128d407c5b0b4ce154d2202d4e9   719838762   41                 1   \n",
       "4  f822a4d35abadb48fb35d7829d8470b1   719324076   22                 1   \n",
       "5  2fce19bc21dfe3d89f149047b0ef8637   718957000   27                 1   \n",
       "6  eb106524e9a456e255041c69bb5778cc   719876679   35                 1   \n",
       "7  300651e9502dc76204377e9fce2734dc   721134206   29                 1   \n",
       "8  18e49cef40df0b2ae76a470fe13d5303   718880266   40                 1   \n",
       "9  5022c6ff49cbbc4e24d00d09be7a9291   722020100   46                 0   \n",
       "\n",
       "            application_ts  documents_send  documents_recieved  flag  \n",
       "0  2019-07-19 16:07:25 UTC               0                   0     0  \n",
       "1  2019-07-22 16:02:23 UTC               0                   0     0  \n",
       "2  2019-07-19 07:09:59 UTC               1                   0     0  \n",
       "3  2019-07-20 12:31:32 UTC               0                   0     0  \n",
       "4  2019-07-20 06:55:21 UTC               0                   0     0  \n",
       "5  2019-07-19 16:38:02 UTC               0                   0     0  \n",
       "6  2019-07-20 13:34:28 UTC               0                   0     0  \n",
       "7  2019-07-22 04:47:07 UTC               0                   0     0  \n",
       "8  2019-07-19 12:54:33 UTC               0                   0     0  \n",
       "9  2019-07-23 13:57:10 UTC               0                   0     0  "
      ]
     },
     "execution_count": 9,
     "metadata": {},
     "output_type": "execute_result"
    }
   ],
   "source": [
    "# Создаем запрос в виде строки \n",
    "query = \"\"\"\n",
    "SELECT * \n",
    "FROM crm\n",
    "LIMIT 10\n",
    "\"\"\"\n",
    "\n",
    "# Передаем его на вход функции\n",
    "fetch_query(query)"
   ]
  },
  {
   "cell_type": "markdown",
   "id": "b096a5ab",
   "metadata": {},
   "source": [
    "## Запросы, решающие поставленные задачи"
   ]
  },
  {
   "cell_type": "code",
   "execution_count": 10,
   "id": "acda2d1f",
   "metadata": {},
   "outputs": [
    {
     "data": {
      "text/html": [
       "<div>\n",
       "<style scoped>\n",
       "    .dataframe tbody tr th:only-of-type {\n",
       "        vertical-align: middle;\n",
       "    }\n",
       "\n",
       "    .dataframe tbody tr th {\n",
       "        vertical-align: top;\n",
       "    }\n",
       "\n",
       "    .dataframe thead th {\n",
       "        text-align: right;\n",
       "    }\n",
       "</style>\n",
       "<table border=\"1\" class=\"dataframe\">\n",
       "  <thead>\n",
       "    <tr style=\"text-align: right;\">\n",
       "      <th></th>\n",
       "      <th>flag</th>\n",
       "      <th>cnt_client</th>\n",
       "      <th>avg_age</th>\n",
       "      <th>sum_docs</th>\n",
       "    </tr>\n",
       "  </thead>\n",
       "  <tbody>\n",
       "    <tr>\n",
       "      <th>0</th>\n",
       "      <td>0</td>\n",
       "      <td>7018</td>\n",
       "      <td>32.267883</td>\n",
       "      <td>1031</td>\n",
       "    </tr>\n",
       "    <tr>\n",
       "      <th>1</th>\n",
       "      <td>1</td>\n",
       "      <td>561</td>\n",
       "      <td>37.459893</td>\n",
       "      <td>534</td>\n",
       "    </tr>\n",
       "  </tbody>\n",
       "</table>\n",
       "</div>"
      ],
      "text/plain": [
       "   flag  cnt_client    avg_age  sum_docs\n",
       "0     0        7018  32.267883      1031\n",
       "1     1         561  37.459893       534"
      ]
     },
     "execution_count": 10,
     "metadata": {},
     "output_type": "execute_result"
    }
   ],
   "source": [
    "query = \"\"\"\n",
    "Select flag, count(id_contact) as cnt_client, avg(age) as avg_age, sum(documents_send) as sum_docs\n",
    "from crm\n",
    "group by flag\n",
    "having max(age)>=20\n",
    "order by cnt_client desc\n",
    "\"\"\"\n",
    "fetch_query(query)"
   ]
  },
  {
   "cell_type": "code",
   "execution_count": 11,
   "id": "7346e010",
   "metadata": {},
   "outputs": [
    {
     "data": {
      "text/html": [
       "<div>\n",
       "<style scoped>\n",
       "    .dataframe tbody tr th:only-of-type {\n",
       "        vertical-align: middle;\n",
       "    }\n",
       "\n",
       "    .dataframe tbody tr th {\n",
       "        vertical-align: top;\n",
       "    }\n",
       "\n",
       "    .dataframe thead th {\n",
       "        text-align: right;\n",
       "    }\n",
       "</style>\n",
       "<table border=\"1\" class=\"dataframe\">\n",
       "  <thead>\n",
       "    <tr style=\"text-align: right;\">\n",
       "      <th></th>\n",
       "      <th>id_contact</th>\n",
       "      <th>dosc_sent</th>\n",
       "    </tr>\n",
       "  </thead>\n",
       "  <tbody>\n",
       "    <tr>\n",
       "      <th>0</th>\n",
       "      <td>722114693</td>\n",
       "      <td>1</td>\n",
       "    </tr>\n",
       "    <tr>\n",
       "      <th>1</th>\n",
       "      <td>722114644</td>\n",
       "      <td>1</td>\n",
       "    </tr>\n",
       "    <tr>\n",
       "      <th>2</th>\n",
       "      <td>722110915</td>\n",
       "      <td>1</td>\n",
       "    </tr>\n",
       "    <tr>\n",
       "      <th>3</th>\n",
       "      <td>722110901</td>\n",
       "      <td>1</td>\n",
       "    </tr>\n",
       "    <tr>\n",
       "      <th>4</th>\n",
       "      <td>722110871</td>\n",
       "      <td>1</td>\n",
       "    </tr>\n",
       "    <tr>\n",
       "      <th>...</th>\n",
       "      <td>...</td>\n",
       "      <td>...</td>\n",
       "    </tr>\n",
       "    <tr>\n",
       "      <th>7574</th>\n",
       "      <td>718534053</td>\n",
       "      <td>0</td>\n",
       "    </tr>\n",
       "    <tr>\n",
       "      <th>7575</th>\n",
       "      <td>718533999</td>\n",
       "      <td>0</td>\n",
       "    </tr>\n",
       "    <tr>\n",
       "      <th>7576</th>\n",
       "      <td>718533992</td>\n",
       "      <td>0</td>\n",
       "    </tr>\n",
       "    <tr>\n",
       "      <th>7577</th>\n",
       "      <td>718533908</td>\n",
       "      <td>0</td>\n",
       "    </tr>\n",
       "    <tr>\n",
       "      <th>7578</th>\n",
       "      <td>718533907</td>\n",
       "      <td>0</td>\n",
       "    </tr>\n",
       "  </tbody>\n",
       "</table>\n",
       "<p>7579 rows × 2 columns</p>\n",
       "</div>"
      ],
      "text/plain": [
       "      id_contact  dosc_sent\n",
       "0      722114693          1\n",
       "1      722114644          1\n",
       "2      722110915          1\n",
       "3      722110901          1\n",
       "4      722110871          1\n",
       "...          ...        ...\n",
       "7574   718534053          0\n",
       "7575   718533999          0\n",
       "7576   718533992          0\n",
       "7577   718533908          0\n",
       "7578   718533907          0\n",
       "\n",
       "[7579 rows x 2 columns]"
      ]
     },
     "execution_count": 11,
     "metadata": {},
     "output_type": "execute_result"
    }
   ],
   "source": [
    "query = \"\"\"\n",
    "Select id_contact, sum(documents_send) as dosc_sent\n",
    "from crm\n",
    "group by id_contact\n",
    "order by dosc_sent desc\n",
    "\"\"\"\n",
    "fetch_query(query)"
   ]
  },
  {
   "cell_type": "code",
   "execution_count": 12,
   "id": "9ceae209",
   "metadata": {},
   "outputs": [
    {
     "data": {
      "text/html": [
       "<div>\n",
       "<style scoped>\n",
       "    .dataframe tbody tr th:only-of-type {\n",
       "        vertical-align: middle;\n",
       "    }\n",
       "\n",
       "    .dataframe tbody tr th {\n",
       "        vertical-align: top;\n",
       "    }\n",
       "\n",
       "    .dataframe thead th {\n",
       "        text-align: right;\n",
       "    }\n",
       "</style>\n",
       "<table border=\"1\" class=\"dataframe\">\n",
       "  <thead>\n",
       "    <tr style=\"text-align: right;\">\n",
       "      <th></th>\n",
       "      <th>user_id</th>\n",
       "      <th>id_contact</th>\n",
       "      <th>age</th>\n",
       "      <th>spoke_with_agent</th>\n",
       "      <th>application_ts</th>\n",
       "      <th>documents_send</th>\n",
       "      <th>documents_recieved</th>\n",
       "      <th>flag</th>\n",
       "      <th>row_number</th>\n",
       "    </tr>\n",
       "  </thead>\n",
       "  <tbody>\n",
       "  </tbody>\n",
       "</table>\n",
       "</div>"
      ],
      "text/plain": [
       "Empty DataFrame\n",
       "Columns: [user_id, id_contact, age, spoke_with_agent, application_ts, documents_send, documents_recieved, flag, row_number]\n",
       "Index: []"
      ]
     },
     "execution_count": 12,
     "metadata": {},
     "output_type": "execute_result"
    }
   ],
   "source": [
    "query = \"\"\"\n",
    "Select *\n",
    "from (\n",
    "Select *, row_number() over (partition by id_contact order by application_ts) as row_number\n",
    "from crm) as t1\n",
    "where row_number =3\n",
    "\"\"\"\n",
    "fetch_query(query)"
   ]
  },
  {
   "cell_type": "code",
   "execution_count": 13,
   "id": "93bcb475",
   "metadata": {},
   "outputs": [
    {
     "data": {
      "text/html": [
       "<div>\n",
       "<style scoped>\n",
       "    .dataframe tbody tr th:only-of-type {\n",
       "        vertical-align: middle;\n",
       "    }\n",
       "\n",
       "    .dataframe tbody tr th {\n",
       "        vertical-align: top;\n",
       "    }\n",
       "\n",
       "    .dataframe thead th {\n",
       "        text-align: right;\n",
       "    }\n",
       "</style>\n",
       "<table border=\"1\" class=\"dataframe\">\n",
       "  <thead>\n",
       "    <tr style=\"text-align: right;\">\n",
       "      <th></th>\n",
       "      <th>user_id</th>\n",
       "      <th>id_contact</th>\n",
       "      <th>age</th>\n",
       "      <th>spoke_with_agent</th>\n",
       "      <th>application_ts</th>\n",
       "      <th>documents_send</th>\n",
       "      <th>documents_recieved</th>\n",
       "      <th>flag</th>\n",
       "      <th>user_id:1</th>\n",
       "      <th>visit_start_time</th>\n",
       "      <th>session_duration</th>\n",
       "      <th>delivery_pickup</th>\n",
       "      <th>bounce_rate</th>\n",
       "      <th>total_sessions</th>\n",
       "      <th>user_type</th>\n",
       "      <th>visited_partners</th>\n",
       "      <th>step_1</th>\n",
       "      <th>step_2</th>\n",
       "      <th>step_3</th>\n",
       "      <th>row_number</th>\n",
       "    </tr>\n",
       "  </thead>\n",
       "  <tbody>\n",
       "    <tr>\n",
       "      <th>0</th>\n",
       "      <td>0023d62e079ee14d5488c29db03ccb38</td>\n",
       "      <td>718910498</td>\n",
       "      <td>32</td>\n",
       "      <td>0</td>\n",
       "      <td>2019-07-19 14:09:14 UTC</td>\n",
       "      <td>0</td>\n",
       "      <td>0</td>\n",
       "      <td>0</td>\n",
       "      <td>0023d62e079ee14d5488c29db03ccb38</td>\n",
       "      <td>2019-07-21 08:59:25 UTC</td>\n",
       "      <td>0</td>\n",
       "      <td>not_stated</td>\n",
       "      <td>1</td>\n",
       "      <td>1</td>\n",
       "      <td>old</td>\n",
       "      <td>0</td>\n",
       "      <td>0</td>\n",
       "      <td>0</td>\n",
       "      <td>0</td>\n",
       "      <td>3</td>\n",
       "    </tr>\n",
       "    <tr>\n",
       "      <th>1</th>\n",
       "      <td>003673b3fda12cb05d2aa8467c12d6cc</td>\n",
       "      <td>718626919</td>\n",
       "      <td>22</td>\n",
       "      <td>1</td>\n",
       "      <td>2019-07-19 06:03:00 UTC</td>\n",
       "      <td>0</td>\n",
       "      <td>0</td>\n",
       "      <td>0</td>\n",
       "      <td>003673b3fda12cb05d2aa8467c12d6cc</td>\n",
       "      <td>2019-07-19 06:05:23 UTC</td>\n",
       "      <td>153</td>\n",
       "      <td>pickup</td>\n",
       "      <td>0</td>\n",
       "      <td>1</td>\n",
       "      <td>old</td>\n",
       "      <td>0</td>\n",
       "      <td>0</td>\n",
       "      <td>0</td>\n",
       "      <td>0</td>\n",
       "      <td>3</td>\n",
       "    </tr>\n",
       "    <tr>\n",
       "      <th>2</th>\n",
       "      <td>0054a9477c1caa935b436b9572c28cbb</td>\n",
       "      <td>721579036</td>\n",
       "      <td>52</td>\n",
       "      <td>1</td>\n",
       "      <td>2019-07-22 11:19:39 UTC</td>\n",
       "      <td>0</td>\n",
       "      <td>0</td>\n",
       "      <td>0</td>\n",
       "      <td>0054a9477c1caa935b436b9572c28cbb</td>\n",
       "      <td>2019-07-22 11:11:05 UTC</td>\n",
       "      <td>1</td>\n",
       "      <td>pickup</td>\n",
       "      <td>0</td>\n",
       "      <td>1</td>\n",
       "      <td>old</td>\n",
       "      <td>0</td>\n",
       "      <td>1</td>\n",
       "      <td>0</td>\n",
       "      <td>0</td>\n",
       "      <td>3</td>\n",
       "    </tr>\n",
       "    <tr>\n",
       "      <th>3</th>\n",
       "      <td>0093d7eba24df4aa808482e40fff638c</td>\n",
       "      <td>718677305</td>\n",
       "      <td>20</td>\n",
       "      <td>1</td>\n",
       "      <td>2019-07-19 07:34:56 UTC</td>\n",
       "      <td>0</td>\n",
       "      <td>0</td>\n",
       "      <td>0</td>\n",
       "      <td>0093d7eba24df4aa808482e40fff638c</td>\n",
       "      <td>2019-07-19 07:30:03 UTC</td>\n",
       "      <td>52</td>\n",
       "      <td>pickup</td>\n",
       "      <td>0</td>\n",
       "      <td>1</td>\n",
       "      <td>old</td>\n",
       "      <td>0</td>\n",
       "      <td>1</td>\n",
       "      <td>0</td>\n",
       "      <td>0</td>\n",
       "      <td>3</td>\n",
       "    </tr>\n",
       "    <tr>\n",
       "      <th>4</th>\n",
       "      <td>010896f4037462d5c9239d408fd0fed8</td>\n",
       "      <td>720927474</td>\n",
       "      <td>28</td>\n",
       "      <td>1</td>\n",
       "      <td>2019-07-21 14:03:23 UTC</td>\n",
       "      <td>1</td>\n",
       "      <td>0</td>\n",
       "      <td>0</td>\n",
       "      <td>010896f4037462d5c9239d408fd0fed8</td>\n",
       "      <td>2019-07-21 13:54:20 UTC</td>\n",
       "      <td>2</td>\n",
       "      <td>pickup</td>\n",
       "      <td>0</td>\n",
       "      <td>1</td>\n",
       "      <td>old</td>\n",
       "      <td>0</td>\n",
       "      <td>1</td>\n",
       "      <td>0</td>\n",
       "      <td>0</td>\n",
       "      <td>3</td>\n",
       "    </tr>\n",
       "    <tr>\n",
       "      <th>...</th>\n",
       "      <td>...</td>\n",
       "      <td>...</td>\n",
       "      <td>...</td>\n",
       "      <td>...</td>\n",
       "      <td>...</td>\n",
       "      <td>...</td>\n",
       "      <td>...</td>\n",
       "      <td>...</td>\n",
       "      <td>...</td>\n",
       "      <td>...</td>\n",
       "      <td>...</td>\n",
       "      <td>...</td>\n",
       "      <td>...</td>\n",
       "      <td>...</td>\n",
       "      <td>...</td>\n",
       "      <td>...</td>\n",
       "      <td>...</td>\n",
       "      <td>...</td>\n",
       "      <td>...</td>\n",
       "      <td>...</td>\n",
       "    </tr>\n",
       "    <tr>\n",
       "      <th>1675</th>\n",
       "      <td>feffe87a79e63594ec4c96b7d6a4b68f</td>\n",
       "      <td>721132037</td>\n",
       "      <td>33</td>\n",
       "      <td>1</td>\n",
       "      <td>2019-07-22 04:34:03 UTC</td>\n",
       "      <td>0</td>\n",
       "      <td>0</td>\n",
       "      <td>0</td>\n",
       "      <td>feffe87a79e63594ec4c96b7d6a4b68f</td>\n",
       "      <td>2019-07-22 11:58:20 UTC</td>\n",
       "      <td>0</td>\n",
       "      <td>not_stated</td>\n",
       "      <td>1</td>\n",
       "      <td>1</td>\n",
       "      <td>old</td>\n",
       "      <td>0</td>\n",
       "      <td>0</td>\n",
       "      <td>0</td>\n",
       "      <td>1</td>\n",
       "      <td>3</td>\n",
       "    </tr>\n",
       "    <tr>\n",
       "      <th>1676</th>\n",
       "      <td>ff2028137e3d2889311724e29fd3bb40</td>\n",
       "      <td>722009318</td>\n",
       "      <td>39</td>\n",
       "      <td>1</td>\n",
       "      <td>2019-07-23 12:47:21 UTC</td>\n",
       "      <td>1</td>\n",
       "      <td>1</td>\n",
       "      <td>1</td>\n",
       "      <td>ff2028137e3d2889311724e29fd3bb40</td>\n",
       "      <td>2019-07-23 12:33:06 UTC</td>\n",
       "      <td>200</td>\n",
       "      <td>not_stated</td>\n",
       "      <td>0</td>\n",
       "      <td>1</td>\n",
       "      <td>old</td>\n",
       "      <td>0</td>\n",
       "      <td>0</td>\n",
       "      <td>0</td>\n",
       "      <td>0</td>\n",
       "      <td>3</td>\n",
       "    </tr>\n",
       "    <tr>\n",
       "      <th>1677</th>\n",
       "      <td>ff70a3db3f2449cb783a54e64068e94c</td>\n",
       "      <td>718822868</td>\n",
       "      <td>31</td>\n",
       "      <td>0</td>\n",
       "      <td>2019-07-19 10:58:44 UTC</td>\n",
       "      <td>0</td>\n",
       "      <td>0</td>\n",
       "      <td>0</td>\n",
       "      <td>ff70a3db3f2449cb783a54e64068e94c</td>\n",
       "      <td>2019-07-21 09:17:22 UTC</td>\n",
       "      <td>0</td>\n",
       "      <td>not_stated</td>\n",
       "      <td>1</td>\n",
       "      <td>1</td>\n",
       "      <td>old</td>\n",
       "      <td>0</td>\n",
       "      <td>0</td>\n",
       "      <td>0</td>\n",
       "      <td>0</td>\n",
       "      <td>3</td>\n",
       "    </tr>\n",
       "    <tr>\n",
       "      <th>1678</th>\n",
       "      <td>ff7f9558eb51ef16bd9b2b5f005c886a</td>\n",
       "      <td>721261932</td>\n",
       "      <td>25</td>\n",
       "      <td>0</td>\n",
       "      <td>2019-07-22 05:52:38 UTC</td>\n",
       "      <td>0</td>\n",
       "      <td>0</td>\n",
       "      <td>0</td>\n",
       "      <td>ff7f9558eb51ef16bd9b2b5f005c886a</td>\n",
       "      <td>2019-07-22 05:55:41 UTC</td>\n",
       "      <td>27</td>\n",
       "      <td>not_stated</td>\n",
       "      <td>0</td>\n",
       "      <td>1</td>\n",
       "      <td>old</td>\n",
       "      <td>0</td>\n",
       "      <td>0</td>\n",
       "      <td>0</td>\n",
       "      <td>1</td>\n",
       "      <td>3</td>\n",
       "    </tr>\n",
       "    <tr>\n",
       "      <th>1679</th>\n",
       "      <td>ffe0a99cb9c5d08c9e4b4df26270d8dc</td>\n",
       "      <td>720161046</td>\n",
       "      <td>35</td>\n",
       "      <td>1</td>\n",
       "      <td>2019-07-21 04:40:15 UTC</td>\n",
       "      <td>0</td>\n",
       "      <td>0</td>\n",
       "      <td>0</td>\n",
       "      <td>ffe0a99cb9c5d08c9e4b4df26270d8dc</td>\n",
       "      <td>2019-07-21 04:40:58 UTC</td>\n",
       "      <td>4</td>\n",
       "      <td>pickup</td>\n",
       "      <td>0</td>\n",
       "      <td>1</td>\n",
       "      <td>old</td>\n",
       "      <td>0</td>\n",
       "      <td>0</td>\n",
       "      <td>0</td>\n",
       "      <td>0</td>\n",
       "      <td>3</td>\n",
       "    </tr>\n",
       "  </tbody>\n",
       "</table>\n",
       "<p>1680 rows × 20 columns</p>\n",
       "</div>"
      ],
      "text/plain": [
       "                               user_id  id_contact  age  spoke_with_agent  \\\n",
       "0     0023d62e079ee14d5488c29db03ccb38   718910498   32                 0   \n",
       "1     003673b3fda12cb05d2aa8467c12d6cc   718626919   22                 1   \n",
       "2     0054a9477c1caa935b436b9572c28cbb   721579036   52                 1   \n",
       "3     0093d7eba24df4aa808482e40fff638c   718677305   20                 1   \n",
       "4     010896f4037462d5c9239d408fd0fed8   720927474   28                 1   \n",
       "...                                ...         ...  ...               ...   \n",
       "1675  feffe87a79e63594ec4c96b7d6a4b68f   721132037   33                 1   \n",
       "1676  ff2028137e3d2889311724e29fd3bb40   722009318   39                 1   \n",
       "1677  ff70a3db3f2449cb783a54e64068e94c   718822868   31                 0   \n",
       "1678  ff7f9558eb51ef16bd9b2b5f005c886a   721261932   25                 0   \n",
       "1679  ffe0a99cb9c5d08c9e4b4df26270d8dc   720161046   35                 1   \n",
       "\n",
       "               application_ts  documents_send  documents_recieved  flag  \\\n",
       "0     2019-07-19 14:09:14 UTC               0                   0     0   \n",
       "1     2019-07-19 06:03:00 UTC               0                   0     0   \n",
       "2     2019-07-22 11:19:39 UTC               0                   0     0   \n",
       "3     2019-07-19 07:34:56 UTC               0                   0     0   \n",
       "4     2019-07-21 14:03:23 UTC               1                   0     0   \n",
       "...                       ...             ...                 ...   ...   \n",
       "1675  2019-07-22 04:34:03 UTC               0                   0     0   \n",
       "1676  2019-07-23 12:47:21 UTC               1                   1     1   \n",
       "1677  2019-07-19 10:58:44 UTC               0                   0     0   \n",
       "1678  2019-07-22 05:52:38 UTC               0                   0     0   \n",
       "1679  2019-07-21 04:40:15 UTC               0                   0     0   \n",
       "\n",
       "                             user_id:1         visit_start_time  \\\n",
       "0     0023d62e079ee14d5488c29db03ccb38  2019-07-21 08:59:25 UTC   \n",
       "1     003673b3fda12cb05d2aa8467c12d6cc  2019-07-19 06:05:23 UTC   \n",
       "2     0054a9477c1caa935b436b9572c28cbb  2019-07-22 11:11:05 UTC   \n",
       "3     0093d7eba24df4aa808482e40fff638c  2019-07-19 07:30:03 UTC   \n",
       "4     010896f4037462d5c9239d408fd0fed8  2019-07-21 13:54:20 UTC   \n",
       "...                                ...                      ...   \n",
       "1675  feffe87a79e63594ec4c96b7d6a4b68f  2019-07-22 11:58:20 UTC   \n",
       "1676  ff2028137e3d2889311724e29fd3bb40  2019-07-23 12:33:06 UTC   \n",
       "1677  ff70a3db3f2449cb783a54e64068e94c  2019-07-21 09:17:22 UTC   \n",
       "1678  ff7f9558eb51ef16bd9b2b5f005c886a  2019-07-22 05:55:41 UTC   \n",
       "1679  ffe0a99cb9c5d08c9e4b4df26270d8dc  2019-07-21 04:40:58 UTC   \n",
       "\n",
       "      session_duration delivery_pickup  bounce_rate  total_sessions user_type  \\\n",
       "0                    0      not_stated            1               1       old   \n",
       "1                  153          pickup            0               1       old   \n",
       "2                    1          pickup            0               1       old   \n",
       "3                   52          pickup            0               1       old   \n",
       "4                    2          pickup            0               1       old   \n",
       "...                ...             ...          ...             ...       ...   \n",
       "1675                 0      not_stated            1               1       old   \n",
       "1676               200      not_stated            0               1       old   \n",
       "1677                 0      not_stated            1               1       old   \n",
       "1678                27      not_stated            0               1       old   \n",
       "1679                 4          pickup            0               1       old   \n",
       "\n",
       "      visited_partners  step_1  step_2  step_3  row_number  \n",
       "0                    0       0       0       0           3  \n",
       "1                    0       0       0       0           3  \n",
       "2                    0       1       0       0           3  \n",
       "3                    0       1       0       0           3  \n",
       "4                    0       1       0       0           3  \n",
       "...                ...     ...     ...     ...         ...  \n",
       "1675                 0       0       0       1           3  \n",
       "1676                 0       0       0       0           3  \n",
       "1677                 0       0       0       0           3  \n",
       "1678                 0       0       0       1           3  \n",
       "1679                 0       0       0       0           3  \n",
       "\n",
       "[1680 rows x 20 columns]"
      ]
     },
     "execution_count": 13,
     "metadata": {},
     "output_type": "execute_result"
    }
   ],
   "source": [
    "query = \"\"\"\n",
    "\n",
    "Select *\n",
    "from (\n",
    "Select *, row_number() over (partition by t1.user_id order by visit_start_time) as row_number\n",
    "from crm as t1\n",
    "inner join visits as t2\n",
    "on t1.user_id = t2.user_id) as t1\n",
    "where row_number = 3\n",
    "\n",
    "\"\"\"\n",
    "fetch_query(query)"
   ]
  },
  {
   "cell_type": "markdown",
   "id": "51031b29",
   "metadata": {},
   "source": [
    "## Анализ данных и обучение моделей"
   ]
  },
  {
   "cell_type": "code",
   "execution_count": 14,
   "id": "519c11da",
   "metadata": {},
   "outputs": [],
   "source": [
    "query = \"\"\"\n",
    "\n",
    "Select *\n",
    "from crm as t1\n",
    "\n",
    "\n",
    "\"\"\"\n",
    "data = fetch_query(query)"
   ]
  },
  {
   "cell_type": "code",
   "execution_count": 15,
   "id": "5052a1a2",
   "metadata": {},
   "outputs": [
    {
     "name": "stdout",
     "output_type": "stream",
     "text": [
      "<class 'pandas.core.frame.DataFrame'>\n",
      "RangeIndex: 7579 entries, 0 to 7578\n",
      "Data columns (total 8 columns):\n",
      " #   Column              Non-Null Count  Dtype \n",
      "---  ------              --------------  ----- \n",
      " 0   user_id             7579 non-null   object\n",
      " 1   id_contact          7579 non-null   int64 \n",
      " 2   age                 7579 non-null   int64 \n",
      " 3   spoke_with_agent    7579 non-null   int64 \n",
      " 4   application_ts      7579 non-null   object\n",
      " 5   documents_send      7579 non-null   int64 \n",
      " 6   documents_recieved  7579 non-null   int64 \n",
      " 7   flag                7579 non-null   int64 \n",
      "dtypes: int64(6), object(2)\n",
      "memory usage: 473.8+ KB\n"
     ]
    }
   ],
   "source": [
    "data.info()"
   ]
  },
  {
   "cell_type": "code",
   "execution_count": 16,
   "id": "0c77f9f9",
   "metadata": {},
   "outputs": [],
   "source": [
    "data['application_ts'] = pd.to_datetime(data['application_ts'])"
   ]
  },
  {
   "cell_type": "code",
   "execution_count": 17,
   "id": "9f1b2a86",
   "metadata": {},
   "outputs": [],
   "source": [
    "data.drop(['user_id', 'id_contact'], axis = 1, inplace = True)"
   ]
  },
  {
   "cell_type": "code",
   "execution_count": 18,
   "id": "5422a7b2",
   "metadata": {},
   "outputs": [
    {
     "data": {
      "text/html": [
       "<div>\n",
       "<style scoped>\n",
       "    .dataframe tbody tr th:only-of-type {\n",
       "        vertical-align: middle;\n",
       "    }\n",
       "\n",
       "    .dataframe tbody tr th {\n",
       "        vertical-align: top;\n",
       "    }\n",
       "\n",
       "    .dataframe thead th {\n",
       "        text-align: right;\n",
       "    }\n",
       "</style>\n",
       "<table border=\"1\" class=\"dataframe\">\n",
       "  <thead>\n",
       "    <tr style=\"text-align: right;\">\n",
       "      <th></th>\n",
       "      <th>age</th>\n",
       "      <th>spoke_with_agent</th>\n",
       "      <th>application_ts</th>\n",
       "      <th>documents_send</th>\n",
       "      <th>documents_recieved</th>\n",
       "      <th>flag</th>\n",
       "    </tr>\n",
       "  </thead>\n",
       "  <tbody>\n",
       "    <tr>\n",
       "      <th>0</th>\n",
       "      <td>28</td>\n",
       "      <td>1</td>\n",
       "      <td>2019-07-19 16:07:25+00:00</td>\n",
       "      <td>0</td>\n",
       "      <td>0</td>\n",
       "      <td>0</td>\n",
       "    </tr>\n",
       "    <tr>\n",
       "      <th>1</th>\n",
       "      <td>29</td>\n",
       "      <td>1</td>\n",
       "      <td>2019-07-22 16:02:23+00:00</td>\n",
       "      <td>0</td>\n",
       "      <td>0</td>\n",
       "      <td>0</td>\n",
       "    </tr>\n",
       "    <tr>\n",
       "      <th>2</th>\n",
       "      <td>20</td>\n",
       "      <td>0</td>\n",
       "      <td>2019-07-19 07:09:59+00:00</td>\n",
       "      <td>1</td>\n",
       "      <td>0</td>\n",
       "      <td>0</td>\n",
       "    </tr>\n",
       "    <tr>\n",
       "      <th>3</th>\n",
       "      <td>41</td>\n",
       "      <td>1</td>\n",
       "      <td>2019-07-20 12:31:32+00:00</td>\n",
       "      <td>0</td>\n",
       "      <td>0</td>\n",
       "      <td>0</td>\n",
       "    </tr>\n",
       "    <tr>\n",
       "      <th>4</th>\n",
       "      <td>22</td>\n",
       "      <td>1</td>\n",
       "      <td>2019-07-20 06:55:21+00:00</td>\n",
       "      <td>0</td>\n",
       "      <td>0</td>\n",
       "      <td>0</td>\n",
       "    </tr>\n",
       "  </tbody>\n",
       "</table>\n",
       "</div>"
      ],
      "text/plain": [
       "   age  spoke_with_agent            application_ts  documents_send  \\\n",
       "0   28                 1 2019-07-19 16:07:25+00:00               0   \n",
       "1   29                 1 2019-07-22 16:02:23+00:00               0   \n",
       "2   20                 0 2019-07-19 07:09:59+00:00               1   \n",
       "3   41                 1 2019-07-20 12:31:32+00:00               0   \n",
       "4   22                 1 2019-07-20 06:55:21+00:00               0   \n",
       "\n",
       "   documents_recieved  flag  \n",
       "0                   0     0  \n",
       "1                   0     0  \n",
       "2                   0     0  \n",
       "3                   0     0  \n",
       "4                   0     0  "
      ]
     },
     "execution_count": 18,
     "metadata": {},
     "output_type": "execute_result"
    }
   ],
   "source": [
    "data.head()"
   ]
  },
  {
   "cell_type": "code",
   "execution_count": 19,
   "id": "9ab48117",
   "metadata": {},
   "outputs": [
    {
     "data": {
      "text/html": [
       "<div>\n",
       "<style scoped>\n",
       "    .dataframe tbody tr th:only-of-type {\n",
       "        vertical-align: middle;\n",
       "    }\n",
       "\n",
       "    .dataframe tbody tr th {\n",
       "        vertical-align: top;\n",
       "    }\n",
       "\n",
       "    .dataframe thead th {\n",
       "        text-align: right;\n",
       "    }\n",
       "</style>\n",
       "<table border=\"1\" class=\"dataframe\">\n",
       "  <thead>\n",
       "    <tr style=\"text-align: right;\">\n",
       "      <th></th>\n",
       "      <th>age</th>\n",
       "      <th>spoke_with_agent</th>\n",
       "      <th>documents_send</th>\n",
       "      <th>documents_recieved</th>\n",
       "      <th>flag</th>\n",
       "    </tr>\n",
       "  </thead>\n",
       "  <tbody>\n",
       "    <tr>\n",
       "      <th>count</th>\n",
       "      <td>7579.000000</td>\n",
       "      <td>7579.000000</td>\n",
       "      <td>7579.000000</td>\n",
       "      <td>7579.000000</td>\n",
       "      <td>7579.000000</td>\n",
       "    </tr>\n",
       "    <tr>\n",
       "      <th>mean</th>\n",
       "      <td>32.652197</td>\n",
       "      <td>0.647711</td>\n",
       "      <td>0.206492</td>\n",
       "      <td>0.074020</td>\n",
       "      <td>0.074020</td>\n",
       "    </tr>\n",
       "    <tr>\n",
       "      <th>std</th>\n",
       "      <td>9.329495</td>\n",
       "      <td>0.477715</td>\n",
       "      <td>0.404814</td>\n",
       "      <td>0.261821</td>\n",
       "      <td>0.261821</td>\n",
       "    </tr>\n",
       "    <tr>\n",
       "      <th>min</th>\n",
       "      <td>20.000000</td>\n",
       "      <td>0.000000</td>\n",
       "      <td>0.000000</td>\n",
       "      <td>0.000000</td>\n",
       "      <td>0.000000</td>\n",
       "    </tr>\n",
       "    <tr>\n",
       "      <th>25%</th>\n",
       "      <td>25.000000</td>\n",
       "      <td>0.000000</td>\n",
       "      <td>0.000000</td>\n",
       "      <td>0.000000</td>\n",
       "      <td>0.000000</td>\n",
       "    </tr>\n",
       "    <tr>\n",
       "      <th>50%</th>\n",
       "      <td>31.000000</td>\n",
       "      <td>1.000000</td>\n",
       "      <td>0.000000</td>\n",
       "      <td>0.000000</td>\n",
       "      <td>0.000000</td>\n",
       "    </tr>\n",
       "    <tr>\n",
       "      <th>75%</th>\n",
       "      <td>38.000000</td>\n",
       "      <td>1.000000</td>\n",
       "      <td>0.000000</td>\n",
       "      <td>0.000000</td>\n",
       "      <td>0.000000</td>\n",
       "    </tr>\n",
       "    <tr>\n",
       "      <th>max</th>\n",
       "      <td>83.000000</td>\n",
       "      <td>1.000000</td>\n",
       "      <td>1.000000</td>\n",
       "      <td>1.000000</td>\n",
       "      <td>1.000000</td>\n",
       "    </tr>\n",
       "  </tbody>\n",
       "</table>\n",
       "</div>"
      ],
      "text/plain": [
       "               age  spoke_with_agent  documents_send  documents_recieved  \\\n",
       "count  7579.000000       7579.000000     7579.000000         7579.000000   \n",
       "mean     32.652197          0.647711        0.206492            0.074020   \n",
       "std       9.329495          0.477715        0.404814            0.261821   \n",
       "min      20.000000          0.000000        0.000000            0.000000   \n",
       "25%      25.000000          0.000000        0.000000            0.000000   \n",
       "50%      31.000000          1.000000        0.000000            0.000000   \n",
       "75%      38.000000          1.000000        0.000000            0.000000   \n",
       "max      83.000000          1.000000        1.000000            1.000000   \n",
       "\n",
       "              flag  \n",
       "count  7579.000000  \n",
       "mean      0.074020  \n",
       "std       0.261821  \n",
       "min       0.000000  \n",
       "25%       0.000000  \n",
       "50%       0.000000  \n",
       "75%       0.000000  \n",
       "max       1.000000  "
      ]
     },
     "execution_count": 19,
     "metadata": {},
     "output_type": "execute_result"
    }
   ],
   "source": [
    "data.describe()"
   ]
  },
  {
   "cell_type": "code",
   "execution_count": 20,
   "id": "891e7178",
   "metadata": {},
   "outputs": [],
   "source": [
    "import seaborn as sns"
   ]
  },
  {
   "cell_type": "code",
   "execution_count": 21,
   "id": "ad30dc75",
   "metadata": {},
   "outputs": [
    {
     "data": {
      "text/plain": [
       "<AxesSubplot:>"
      ]
     },
     "execution_count": 21,
     "metadata": {},
     "output_type": "execute_result"
    },
    {
     "data": {
      "image/png": "[encoded data removed]",
      "text/plain": [
       "<Figure size 432x288 with 2 Axes>"
      ]
     },
     "metadata": {
      "needs_background": "light"
     },
     "output_type": "display_data"
    }
   ],
   "source": [
    "sns.heatmap(data.corr())"
   ]
  },
  {
   "cell_type": "code",
   "execution_count": 22,
   "id": "4ce4395e",
   "metadata": {},
   "outputs": [
    {
     "data": {
      "text/html": [
       "<div>\n",
       "<style scoped>\n",
       "    .dataframe tbody tr th:only-of-type {\n",
       "        vertical-align: middle;\n",
       "    }\n",
       "\n",
       "    .dataframe tbody tr th {\n",
       "        vertical-align: top;\n",
       "    }\n",
       "\n",
       "    .dataframe thead th {\n",
       "        text-align: right;\n",
       "    }\n",
       "</style>\n",
       "<table border=\"1\" class=\"dataframe\">\n",
       "  <thead>\n",
       "    <tr style=\"text-align: right;\">\n",
       "      <th></th>\n",
       "      <th>age</th>\n",
       "      <th>spoke_with_agent</th>\n",
       "      <th>documents_send</th>\n",
       "      <th>documents_recieved</th>\n",
       "      <th>flag</th>\n",
       "    </tr>\n",
       "  </thead>\n",
       "  <tbody>\n",
       "    <tr>\n",
       "      <th>age</th>\n",
       "      <td>1.000000</td>\n",
       "      <td>0.095824</td>\n",
       "      <td>0.117097</td>\n",
       "      <td>0.142466</td>\n",
       "      <td>0.145708</td>\n",
       "    </tr>\n",
       "    <tr>\n",
       "      <th>spoke_with_agent</th>\n",
       "      <td>0.095824</td>\n",
       "      <td>1.000000</td>\n",
       "      <td>0.239057</td>\n",
       "      <td>0.122000</td>\n",
       "      <td>0.112504</td>\n",
       "    </tr>\n",
       "    <tr>\n",
       "      <th>documents_send</th>\n",
       "      <td>0.117097</td>\n",
       "      <td>0.239057</td>\n",
       "      <td>1.000000</td>\n",
       "      <td>0.554242</td>\n",
       "      <td>0.520626</td>\n",
       "    </tr>\n",
       "    <tr>\n",
       "      <th>documents_recieved</th>\n",
       "      <td>0.142466</td>\n",
       "      <td>0.122000</td>\n",
       "      <td>0.554242</td>\n",
       "      <td>1.000000</td>\n",
       "      <td>0.905674</td>\n",
       "    </tr>\n",
       "    <tr>\n",
       "      <th>flag</th>\n",
       "      <td>0.145708</td>\n",
       "      <td>0.112504</td>\n",
       "      <td>0.520626</td>\n",
       "      <td>0.905674</td>\n",
       "      <td>1.000000</td>\n",
       "    </tr>\n",
       "  </tbody>\n",
       "</table>\n",
       "</div>"
      ],
      "text/plain": [
       "                         age  spoke_with_agent  documents_send  \\\n",
       "age                 1.000000          0.095824        0.117097   \n",
       "spoke_with_agent    0.095824          1.000000        0.239057   \n",
       "documents_send      0.117097          0.239057        1.000000   \n",
       "documents_recieved  0.142466          0.122000        0.554242   \n",
       "flag                0.145708          0.112504        0.520626   \n",
       "\n",
       "                    documents_recieved      flag  \n",
       "age                           0.142466  0.145708  \n",
       "spoke_with_agent              0.122000  0.112504  \n",
       "documents_send                0.554242  0.520626  \n",
       "documents_recieved            1.000000  0.905674  \n",
       "flag                          0.905674  1.000000  "
      ]
     },
     "execution_count": 22,
     "metadata": {},
     "output_type": "execute_result"
    }
   ],
   "source": [
    "data.corr()"
   ]
  },
  {
   "cell_type": "code",
   "execution_count": 23,
   "id": "6ba3ae72",
   "metadata": {},
   "outputs": [],
   "source": [
    "import matplotlib.pyplot as plt\n",
    "from pandas.plotting import scatter_matrix"
   ]
  },
  {
   "cell_type": "code",
   "execution_count": 24,
   "id": "d5dd07b2",
   "metadata": {},
   "outputs": [
    {
     "data": {
      "text/plain": [
       "<Figure size 864x648 with 0 Axes>"
      ]
     },
     "metadata": {},
     "output_type": "display_data"
    },
    {
     "data": {
      "image/png": "[encoded data removed]",
      "text/plain": [
       "<Figure size 432x288 with 25 Axes>"
      ]
     },
     "metadata": {
      "needs_background": "light"
     },
     "output_type": "display_data"
    }
   ],
   "source": [
    "plt.figure(figsize=(12,9))\n",
    "scatter_matrix(data);"
   ]
  },
  {
   "cell_type": "code",
   "execution_count": 25,
   "id": "01c589c8",
   "metadata": {},
   "outputs": [
    {
     "data": {
      "text/plain": [
       "<AxesSubplot:xlabel='flag', ylabel='documents_recieved'>"
      ]
     },
     "execution_count": 25,
     "metadata": {},
     "output_type": "execute_result"
    },
    {
     "data": {
      "image/png": "[encoded data removed]",
      "text/plain": [
       "<Figure size 432x288 with 1 Axes>"
      ]
     },
     "metadata": {
      "needs_background": "light"
     },
     "output_type": "display_data"
    }
   ],
   "source": [
    "sns.scatterplot(data=data, x='flag', y ='documents_recieved')"
   ]
  },
  {
   "cell_type": "code",
   "execution_count": 26,
   "id": "e8a98d60",
   "metadata": {},
   "outputs": [
    {
     "data": {
      "text/plain": [
       "<AxesSubplot:xlabel='flag', ylabel='age'>"
      ]
     },
     "execution_count": 26,
     "metadata": {},
     "output_type": "execute_result"
    },
    {
     "data": {
      "image/png": "[encoded data removed]",
      "text/plain": [
       "<Figure size 432x288 with 1 Axes>"
      ]
     },
     "metadata": {
      "needs_background": "light"
     },
     "output_type": "display_data"
    }
   ],
   "source": [
    "sns.scatterplot(data=data, x='flag', y ='age')"
   ]
  },
  {
   "cell_type": "code",
   "execution_count": 27,
   "id": "593ecb6c",
   "metadata": {},
   "outputs": [],
   "source": [
    "data.drop('documents_recieved', axis=1, inplace = True)"
   ]
  },
  {
   "cell_type": "code",
   "execution_count": 28,
   "id": "ba194f0a",
   "metadata": {},
   "outputs": [],
   "source": [
    "# data['month'] = data['application_ts'].dt.month\n",
    "data['day_of_week'] = data['application_ts'].dt.weekday"
   ]
  },
  {
   "cell_type": "code",
   "execution_count": 31,
   "id": "2e7b8013",
   "metadata": {},
   "outputs": [
    {
     "data": {
      "text/plain": [
       "<AxesSubplot:xlabel='flag', ylabel='documents_send'>"
      ]
     },
     "execution_count": 31,
     "metadata": {},
     "output_type": "execute_result"
    },
    {
     "data": {
      "image/png": "[encoded data removed]",
      "text/plain": [
       "<Figure size 432x288 with 1 Axes>"
      ]
     },
     "metadata": {
      "needs_background": "light"
     },
     "output_type": "display_data"
    }
   ],
   "source": [
    "sns.scatterplot(data=data, x='flag', y ='documents_send')"
   ]
  },
  {
   "cell_type": "code",
   "execution_count": 32,
   "id": "367e9919",
   "metadata": {},
   "outputs": [],
   "source": [
    "data.drop('documents_send', axis=1, inplace = True)"
   ]
  },
  {
   "cell_type": "code",
   "execution_count": 34,
   "id": "f56c8fa8",
   "metadata": {},
   "outputs": [],
   "source": [
    "data_new = pd.get_dummies(data, drop_first=True)"
   ]
  },
  {
   "cell_type": "code",
   "execution_count": 35,
   "id": "7dafbd14",
   "metadata": {},
   "outputs": [],
   "source": [
    "from sklearn.linear_model import LogisticRegression\n",
    "from sklearn.ensemble import RandomForestClassifier\n",
    "from sklearn.model_selection import train_test_split, cross_val_score\n",
    "from sklearn.metrics import roc_auc_score, make_scorer"
   ]
  },
  {
   "cell_type": "code",
   "execution_count": 36,
   "id": "eb4c5d58",
   "metadata": {},
   "outputs": [],
   "source": [
    "x_train, x_test, y_train, y_test = train_test_split(\n",
    "    data.drop(['application_ts','flag'],axis=1), data['flag'], random_state=12345, test_size=0.2)"
   ]
  },
  {
   "cell_type": "code",
   "execution_count": 37,
   "id": "e34fab1d",
   "metadata": {},
   "outputs": [
    {
     "data": {
      "text/html": [
       "<div>\n",
       "<style scoped>\n",
       "    .dataframe tbody tr th:only-of-type {\n",
       "        vertical-align: middle;\n",
       "    }\n",
       "\n",
       "    .dataframe tbody tr th {\n",
       "        vertical-align: top;\n",
       "    }\n",
       "\n",
       "    .dataframe thead th {\n",
       "        text-align: right;\n",
       "    }\n",
       "</style>\n",
       "<table border=\"1\" class=\"dataframe\">\n",
       "  <thead>\n",
       "    <tr style=\"text-align: right;\">\n",
       "      <th></th>\n",
       "      <th>age</th>\n",
       "      <th>spoke_with_agent</th>\n",
       "      <th>day_of_week</th>\n",
       "    </tr>\n",
       "  </thead>\n",
       "  <tbody>\n",
       "    <tr>\n",
       "      <th>6121</th>\n",
       "      <td>34</td>\n",
       "      <td>1</td>\n",
       "      <td>0</td>\n",
       "    </tr>\n",
       "    <tr>\n",
       "      <th>1539</th>\n",
       "      <td>22</td>\n",
       "      <td>1</td>\n",
       "      <td>1</td>\n",
       "    </tr>\n",
       "    <tr>\n",
       "      <th>4535</th>\n",
       "      <td>34</td>\n",
       "      <td>1</td>\n",
       "      <td>4</td>\n",
       "    </tr>\n",
       "    <tr>\n",
       "      <th>4819</th>\n",
       "      <td>59</td>\n",
       "      <td>0</td>\n",
       "      <td>5</td>\n",
       "    </tr>\n",
       "    <tr>\n",
       "      <th>860</th>\n",
       "      <td>26</td>\n",
       "      <td>0</td>\n",
       "      <td>6</td>\n",
       "    </tr>\n",
       "    <tr>\n",
       "      <th>...</th>\n",
       "      <td>...</td>\n",
       "      <td>...</td>\n",
       "      <td>...</td>\n",
       "    </tr>\n",
       "    <tr>\n",
       "      <th>3492</th>\n",
       "      <td>42</td>\n",
       "      <td>0</td>\n",
       "      <td>5</td>\n",
       "    </tr>\n",
       "    <tr>\n",
       "      <th>2177</th>\n",
       "      <td>54</td>\n",
       "      <td>0</td>\n",
       "      <td>6</td>\n",
       "    </tr>\n",
       "    <tr>\n",
       "      <th>7453</th>\n",
       "      <td>30</td>\n",
       "      <td>0</td>\n",
       "      <td>4</td>\n",
       "    </tr>\n",
       "    <tr>\n",
       "      <th>3557</th>\n",
       "      <td>33</td>\n",
       "      <td>1</td>\n",
       "      <td>4</td>\n",
       "    </tr>\n",
       "    <tr>\n",
       "      <th>4578</th>\n",
       "      <td>21</td>\n",
       "      <td>1</td>\n",
       "      <td>0</td>\n",
       "    </tr>\n",
       "  </tbody>\n",
       "</table>\n",
       "<p>6063 rows × 3 columns</p>\n",
       "</div>"
      ],
      "text/plain": [
       "      age  spoke_with_agent  day_of_week\n",
       "6121   34                 1            0\n",
       "1539   22                 1            1\n",
       "4535   34                 1            4\n",
       "4819   59                 0            5\n",
       "860    26                 0            6\n",
       "...   ...               ...          ...\n",
       "3492   42                 0            5\n",
       "2177   54                 0            6\n",
       "7453   30                 0            4\n",
       "3557   33                 1            4\n",
       "4578   21                 1            0\n",
       "\n",
       "[6063 rows x 3 columns]"
      ]
     },
     "execution_count": 37,
     "metadata": {},
     "output_type": "execute_result"
    }
   ],
   "source": [
    "x_train"
   ]
  },
  {
   "cell_type": "code",
   "execution_count": 38,
   "id": "3d27abbf",
   "metadata": {},
   "outputs": [
    {
     "data": {
      "text/plain": [
       "<AxesSubplot:>"
      ]
     },
     "execution_count": 38,
     "metadata": {},
     "output_type": "execute_result"
    },
    {
     "data": {
      "image/png": "[encoded data removed]",
      "text/plain": [
       "<Figure size 432x288 with 1 Axes>"
      ]
     },
     "metadata": {
      "needs_background": "light"
     },
     "output_type": "display_data"
    }
   ],
   "source": [
    "y_train.hist()"
   ]
  },
  {
   "cell_type": "code",
   "execution_count": 39,
   "id": "a22b3051",
   "metadata": {},
   "outputs": [],
   "source": [
    "model = LogisticRegression(class_weight='balanced')"
   ]
  },
  {
   "cell_type": "code",
   "execution_count": 41,
   "id": "386d0242",
   "metadata": {},
   "outputs": [],
   "source": [
    "scorer = make_scorer(roc_auc_score, needs_proba = True)"
   ]
  },
  {
   "cell_type": "code",
   "execution_count": 42,
   "id": "dfdce80a",
   "metadata": {},
   "outputs": [],
   "source": [
    "cvs = cross_val_score(model, x_train, y_train, cv = 5, scoring=scorer, n_jobs=-1)"
   ]
  },
  {
   "cell_type": "code",
   "execution_count": 43,
   "id": "c12fe7dd",
   "metadata": {},
   "outputs": [
    {
     "data": {
      "text/plain": [
       "0.6975704423713044"
      ]
     },
     "execution_count": 43,
     "metadata": {},
     "output_type": "execute_result"
    }
   ],
   "source": [
    "cvs.mean()"
   ]
  },
  {
   "cell_type": "code",
   "execution_count": 44,
   "id": "fd6e4913",
   "metadata": {},
   "outputs": [
    {
     "data": {
      "text/plain": [
       "LogisticRegression(class_weight='balanced')"
      ]
     },
     "execution_count": 44,
     "metadata": {},
     "output_type": "execute_result"
    }
   ],
   "source": [
    "model.fit(x_train, y_train)"
   ]
  },
  {
   "cell_type": "code",
   "execution_count": 45,
   "id": "a8a13731",
   "metadata": {},
   "outputs": [
    {
     "data": {
      "text/plain": [
       "0.6857649000194137"
      ]
     },
     "execution_count": 45,
     "metadata": {},
     "output_type": "execute_result"
    }
   ],
   "source": [
    "roc_auc_score(y_test, model.predict_proba(x_test)[:,1])"
   ]
  },
  {
   "cell_type": "code",
   "execution_count": 46,
   "id": "6ae237b2",
   "metadata": {},
   "outputs": [],
   "source": [
    "model_2 = RandomForestClassifier(max_depth=3,random_state=12345)"
   ]
  },
  {
   "cell_type": "code",
   "execution_count": 47,
   "id": "bbf481cd",
   "metadata": {},
   "outputs": [],
   "source": [
    "cvs = cross_val_score(model_2, x_train, y_train, cv = 5, scoring=scorer, n_jobs=-1)"
   ]
  },
  {
   "cell_type": "code",
   "execution_count": 48,
   "id": "9f6c90ed",
   "metadata": {},
   "outputs": [
    {
     "data": {
      "text/plain": [
       "0.692214985380413"
      ]
     },
     "execution_count": 48,
     "metadata": {},
     "output_type": "execute_result"
    }
   ],
   "source": [
    "cvs.mean()"
   ]
  },
  {
   "cell_type": "code",
   "execution_count": 49,
   "id": "5979e713",
   "metadata": {},
   "outputs": [
    {
     "data": {
      "text/plain": [
       "RandomForestClassifier(max_depth=3, random_state=12345)"
      ]
     },
     "execution_count": 49,
     "metadata": {},
     "output_type": "execute_result"
    }
   ],
   "source": [
    "model_2.fit(x_train, y_train)"
   ]
  },
  {
   "cell_type": "code",
   "execution_count": 50,
   "id": "b2884e72",
   "metadata": {},
   "outputs": [
    {
     "data": {
      "text/plain": [
       "0.682613639515212"
      ]
     },
     "execution_count": 50,
     "metadata": {},
     "output_type": "execute_result"
    }
   ],
   "source": [
    "roc_auc_score(y_test, model_2.predict_proba(x_test)[:,1])"
   ]
  },
  {
   "cell_type": "code",
   "execution_count": 51,
   "id": "5de4338d",
   "metadata": {},
   "outputs": [
    {
     "data": {
      "text/html": [
       "<div>\n",
       "<style scoped>\n",
       "    .dataframe tbody tr th:only-of-type {\n",
       "        vertical-align: middle;\n",
       "    }\n",
       "\n",
       "    .dataframe tbody tr th {\n",
       "        vertical-align: top;\n",
       "    }\n",
       "\n",
       "    .dataframe thead th {\n",
       "        text-align: right;\n",
       "    }\n",
       "</style>\n",
       "<table border=\"1\" class=\"dataframe\">\n",
       "  <thead>\n",
       "    <tr style=\"text-align: right;\">\n",
       "      <th></th>\n",
       "      <th>0</th>\n",
       "    </tr>\n",
       "  </thead>\n",
       "  <tbody>\n",
       "    <tr>\n",
       "      <th>age</th>\n",
       "      <td>0.057629</td>\n",
       "    </tr>\n",
       "    <tr>\n",
       "      <th>spoke_with_agent</th>\n",
       "      <td>1.074054</td>\n",
       "    </tr>\n",
       "    <tr>\n",
       "      <th>day_of_week</th>\n",
       "      <td>-0.001055</td>\n",
       "    </tr>\n",
       "  </tbody>\n",
       "</table>\n",
       "</div>"
      ],
      "text/plain": [
       "                         0\n",
       "age               0.057629\n",
       "spoke_with_agent  1.074054\n",
       "day_of_week      -0.001055"
      ]
     },
     "execution_count": 51,
     "metadata": {},
     "output_type": "execute_result"
    }
   ],
   "source": [
    "pd.DataFrame(model.coef_.T, index = list(x_train))"
   ]
  },
  {
   "cell_type": "code",
   "execution_count": 52,
   "id": "ef4382bc",
   "metadata": {},
   "outputs": [
    {
     "data": {
      "text/plain": [
       "array([0.39981021, 0.22255319, 0.32610462, ..., 0.55797286, 0.87024456,\n",
       "       0.4862021 ])"
      ]
     },
     "execution_count": 52,
     "metadata": {},
     "output_type": "execute_result"
    }
   ],
   "source": [
    "model.predict_proba(x_test)[:,1]"
   ]
  },
  {
   "cell_type": "code",
   "execution_count": 53,
   "id": "6ee5bf5f",
   "metadata": {},
   "outputs": [
    {
     "data": {
      "text/plain": [
       "array([-2.80049824])"
      ]
     },
     "execution_count": 53,
     "metadata": {},
     "output_type": "execute_result"
    }
   ],
   "source": [
    "model.intercept_"
   ]
  },
  {
   "cell_type": "code",
   "execution_count": 59,
   "id": "2661ade5",
   "metadata": {},
   "outputs": [
    {
     "data": {
      "text/html": [
       "<div>\n",
       "<style scoped>\n",
       "    .dataframe tbody tr th:only-of-type {\n",
       "        vertical-align: middle;\n",
       "    }\n",
       "\n",
       "    .dataframe tbody tr th {\n",
       "        vertical-align: top;\n",
       "    }\n",
       "\n",
       "    .dataframe thead th {\n",
       "        text-align: right;\n",
       "    }\n",
       "</style>\n",
       "<table border=\"1\" class=\"dataframe\">\n",
       "  <thead>\n",
       "    <tr style=\"text-align: right;\">\n",
       "      <th></th>\n",
       "      <th>0</th>\n",
       "    </tr>\n",
       "  </thead>\n",
       "  <tbody>\n",
       "    <tr>\n",
       "      <th>age</th>\n",
       "      <td>0.622838</td>\n",
       "    </tr>\n",
       "    <tr>\n",
       "      <th>spoke_with_agent</th>\n",
       "      <td>0.330879</td>\n",
       "    </tr>\n",
       "    <tr>\n",
       "      <th>day_of_week</th>\n",
       "      <td>0.046283</td>\n",
       "    </tr>\n",
       "  </tbody>\n",
       "</table>\n",
       "</div>"
      ],
      "text/plain": [
       "                         0\n",
       "age               0.622838\n",
       "spoke_with_agent  0.330879\n",
       "day_of_week       0.046283"
      ]
     },
     "execution_count": 59,
     "metadata": {},
     "output_type": "execute_result"
    }
   ],
   "source": [
    "pd.DataFrame(model_2.feature_importances_, index = list(x_train))"
   ]
  },
  {
   "cell_type": "code",
   "execution_count": null,
   "id": "7140b26b",
   "metadata": {},
   "outputs": [],
   "source": []
  }
 ],
 "metadata": {
  "kernelspec": {
   "display_name": "Python 3",
   "language": "python",
   "name": "python3"
  },
  "language_info": {
   "codemirror_mode": {
    "name": "ipython",
    "version": 3
   },
   "file_extension": ".py",
   "mimetype": "text/x-python",
   "name": "python",
   "nbconvert_exporter": "python",
   "pygments_lexer": "ipython3",
   "version": "3.8.8"
  }
 },
 "nbformat": 4,
 "nbformat_minor": 5
}
